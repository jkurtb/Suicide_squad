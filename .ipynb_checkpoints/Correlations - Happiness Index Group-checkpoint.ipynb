{
 "cells": [
  {
   "cell_type": "code",
   "execution_count": 1,
   "metadata": {},
   "outputs": [],
   "source": [
    "# Dependencies\n",
    "import csv\n",
    "import pandas as pd\n",
    "import numpy as np\n",
    "import matplotlib.pyplot as plt\n",
    "from scipy.stats import linregress"
   ]
  },
  {
   "cell_type": "markdown",
   "metadata": {},
   "source": [
    "#### Correlation of Variables (Y2017)\n",
    "##### World Happiness Index"
   ]
  },
  {
   "cell_type": "code",
   "execution_count": 2,
   "metadata": {},
   "outputs": [],
   "source": [
    "# Load/Read Happiness Index or Ladder Score\n",
    "New_HappyIndex_mx = \"Data sets/Clean Happiness Index Data Sets/New_HappyIndex_mx.csv\"\n",
    "happiness_index = pd.read_csv(New_HappyIndex_mx)\n",
    "# happiness_index.head(1)"
   ]
  },
  {
   "cell_type": "code",
   "execution_count": 3,
   "metadata": {},
   "outputs": [],
   "source": [
    "# Filter year 2017 and rename variable column for analysis\n",
    "filter_2017 = happiness_index.drop(labels=['2007', '2008', '2009', '2010', '2011', '2012', '2013', '2014',\n",
    "                                             '2015', '2016'], axis=1)\n",
    "happiness_2017 = filter_2017.rename(columns={'2017': 'Happiness Index'})"
   ]
  },
  {
   "cell_type": "markdown",
   "metadata": {},
   "source": [
    "#### GDP per capita"
   ]
  },
  {
   "cell_type": "code",
   "execution_count": 4,
   "metadata": {},
   "outputs": [],
   "source": [
    "# Load/Read Log GDP per Capita\n",
    "New_HI1_mx = \"Data sets/Clean Happiness Index Data Sets/New_HI1_mx.csv\"\n",
    "gdp = pd.read_csv(New_HI1_mx)"
   ]
  },
  {
   "cell_type": "code",
   "execution_count": 5,
   "metadata": {},
   "outputs": [],
   "source": [
    "# Filter year 2017 and rename variable column for analysis\n",
    "gdp_filter2017 = gdp.drop(labels=['2007', '2008', '2009', '2010', '2011', '2012', '2013', '2014',\n",
    "                            '2015', '2016'], axis=1)\n",
    "gdp_2017 = gdp_filter2017.rename(columns={'2017': 'GDP'})"
   ]
  },
  {
   "cell_type": "markdown",
   "metadata": {},
   "source": [
    "#### Social Support"
   ]
  },
  {
   "cell_type": "code",
   "execution_count": 6,
   "metadata": {},
   "outputs": [],
   "source": [
    "# Load/Read Social Support\n",
    "New_HI2_mx = \"Data sets/Clean Happiness Index Data Sets/New_HI2_mx.csv\"\n",
    "social_support = pd.read_csv(New_HI2_mx)"
   ]
  },
  {
   "cell_type": "code",
   "execution_count": 7,
   "metadata": {},
   "outputs": [],
   "source": [
    "# Filter year 2017 and rename variable column for analysis\n",
    "social_filter2017 = social_support.drop(labels=['2007', '2008', '2009', '2010', '2011', '2012', '2013', '2014',\n",
    "                            '2015', '2016'], axis=1)\n",
    "social_support2017 = social_filter2017.rename(columns={'2017': 'Social Support'})"
   ]
  },
  {
   "cell_type": "markdown",
   "metadata": {},
   "source": [
    "#### Life Expectancy at Birth"
   ]
  },
  {
   "cell_type": "code",
   "execution_count": 8,
   "metadata": {},
   "outputs": [],
   "source": [
    "# Load/Read Health life expectancy at birth\n",
    "New_HI3_mx = \"Data sets/Clean Happiness Index Data Sets/New_HI3_mx.csv\"\n",
    "life_expectancy = pd.read_csv(New_HI3_mx)"
   ]
  },
  {
   "cell_type": "code",
   "execution_count": 9,
   "metadata": {},
   "outputs": [],
   "source": [
    "# Filter year 2017 and rename variable column for analysis\n",
    "life_filter2017 = life_expectancy.drop(labels=['2007', '2008', '2009', '2010', '2011', '2012', '2013', '2014',\n",
    "                            '2015', '2016'], axis=1)\n",
    "life_expectancy2017 = life_filter2017.rename(columns={'2017': 'Life Expectancy'})"
   ]
  },
  {
   "cell_type": "markdown",
   "metadata": {},
   "source": [
    "#### Freedom to make life choices"
   ]
  },
  {
   "cell_type": "code",
   "execution_count": 10,
   "metadata": {},
   "outputs": [],
   "source": [
    "# Load/Read Freedom to make life choices\n",
    "New_HI4_mx = \"Data sets/Clean Happiness Index Data Sets/New_HI4_mx.csv\"\n",
    "freedom = pd.read_csv(New_HI4_mx)"
   ]
  },
  {
   "cell_type": "code",
   "execution_count": 11,
   "metadata": {},
   "outputs": [],
   "source": [
    "# Filter year 2017 and rename variable column for analysis\n",
    "freedom_filter2017 = freedom.drop(labels=['2007', '2008', '2009', '2010', '2011', '2012', '2013', '2014',\n",
    "                            '2015', '2016'], axis=1)\n",
    "freedom_2017 = freedom_filter2017.rename(columns={'2017': 'Freedom'})"
   ]
  },
  {
   "cell_type": "markdown",
   "metadata": {},
   "source": [
    "#### Generosity"
   ]
  },
  {
   "cell_type": "code",
   "execution_count": 12,
   "metadata": {},
   "outputs": [],
   "source": [
    "# Load/Read Generosity\n",
    "New_HI5_mx = \"Data sets/Clean Happiness Index Data Sets/New_HI5_mx.csv\"\n",
    "generosity = pd.read_csv(New_HI5_mx)"
   ]
  },
  {
   "cell_type": "code",
   "execution_count": 13,
   "metadata": {},
   "outputs": [],
   "source": [
    "# Filter year 2017 and rename variable column for analysis\n",
    "generosity_filter2017 = generosity.drop(labels=['2007', '2008', '2009', '2010', '2011', '2012', '2013', '2014',\n",
    "                            '2015', '2016'], axis=1)\n",
    "generosity_2017 = generosity_filter2017.rename(columns={'2017': 'Generosity'})"
   ]
  },
  {
   "cell_type": "markdown",
   "metadata": {},
   "source": [
    "#### Perceptions of Corruption"
   ]
  },
  {
   "cell_type": "code",
   "execution_count": 14,
   "metadata": {},
   "outputs": [],
   "source": [
    "# Load/Read Perceptions of Corruption\n",
    "New_HI6_mx = \"Data sets/Clean Happiness Index Data Sets/New_HI6_mx.csv\"\n",
    "perceptions_of_corruption = pd.read_csv(New_HI6_mx)"
   ]
  },
  {
   "cell_type": "code",
   "execution_count": 15,
   "metadata": {},
   "outputs": [],
   "source": [
    "# Filter year 2017 and rename variable column for analysis\n",
    "corruption_filter2017 = perceptions_of_corruption.drop(labels=['2007', '2008', '2009', '2010', '2011', '2012', '2013', '2014',\n",
    "                            '2015', '2016'], axis=1)\n",
    "perceptions_corruption2017 = corruption_filter2017.rename(columns={'2017': 'Perceptions of Corruption'})"
   ]
  },
  {
   "cell_type": "markdown",
   "metadata": {},
   "source": [
    "### Consolidated Y2017 Data for Correlations"
   ]
  },
  {
   "cell_type": "code",
   "execution_count": 16,
   "metadata": {},
   "outputs": [
    {
     "data": {
      "text/html": [
       "<div>\n",
       "<style scoped>\n",
       "    .dataframe tbody tr th:only-of-type {\n",
       "        vertical-align: middle;\n",
       "    }\n",
       "\n",
       "    .dataframe tbody tr th {\n",
       "        vertical-align: top;\n",
       "    }\n",
       "\n",
       "    .dataframe thead th {\n",
       "        text-align: right;\n",
       "    }\n",
       "</style>\n",
       "<table border=\"1\" class=\"dataframe\">\n",
       "  <thead>\n",
       "    <tr style=\"text-align: right;\">\n",
       "      <th></th>\n",
       "      <th>Country name</th>\n",
       "      <th>Happiness Index</th>\n",
       "      <th>GDP</th>\n",
       "      <th>Social Support</th>\n",
       "      <th>Life Expectancy</th>\n",
       "      <th>Freedom</th>\n",
       "      <th>Generosity</th>\n",
       "      <th>Perceptions of Corruption</th>\n",
       "    </tr>\n",
       "  </thead>\n",
       "  <tbody>\n",
       "    <tr>\n",
       "      <th>0</th>\n",
       "      <td>Afghanistan</td>\n",
       "      <td>2.66</td>\n",
       "      <td>7.47</td>\n",
       "      <td>0.49</td>\n",
       "      <td>52.8</td>\n",
       "      <td>0.43</td>\n",
       "      <td>-0.11</td>\n",
       "      <td>0.95</td>\n",
       "    </tr>\n",
       "    <tr>\n",
       "      <th>1</th>\n",
       "      <td>Albania</td>\n",
       "      <td>4.64</td>\n",
       "      <td>9.38</td>\n",
       "      <td>0.64</td>\n",
       "      <td>68.4</td>\n",
       "      <td>0.75</td>\n",
       "      <td>-0.03</td>\n",
       "      <td>0.88</td>\n",
       "    </tr>\n",
       "    <tr>\n",
       "      <th>2</th>\n",
       "      <td>Argentina</td>\n",
       "      <td>6.04</td>\n",
       "      <td>9.85</td>\n",
       "      <td>0.91</td>\n",
       "      <td>68.6</td>\n",
       "      <td>0.83</td>\n",
       "      <td>-0.18</td>\n",
       "      <td>0.84</td>\n",
       "    </tr>\n",
       "    <tr>\n",
       "      <th>3</th>\n",
       "      <td>Armenia</td>\n",
       "      <td>4.29</td>\n",
       "      <td>9.08</td>\n",
       "      <td>0.70</td>\n",
       "      <td>66.6</td>\n",
       "      <td>0.61</td>\n",
       "      <td>-0.13</td>\n",
       "      <td>0.86</td>\n",
       "    </tr>\n",
       "    <tr>\n",
       "      <th>4</th>\n",
       "      <td>Australia</td>\n",
       "      <td>7.26</td>\n",
       "      <td>10.71</td>\n",
       "      <td>0.95</td>\n",
       "      <td>73.3</td>\n",
       "      <td>0.91</td>\n",
       "      <td>0.31</td>\n",
       "      <td>0.41</td>\n",
       "    </tr>\n",
       "    <tr>\n",
       "      <th>5</th>\n",
       "      <td>Austria</td>\n",
       "      <td>7.29</td>\n",
       "      <td>10.73</td>\n",
       "      <td>0.91</td>\n",
       "      <td>72.7</td>\n",
       "      <td>0.89</td>\n",
       "      <td>0.14</td>\n",
       "      <td>0.52</td>\n",
       "    </tr>\n",
       "    <tr>\n",
       "      <th>6</th>\n",
       "      <td>Azerbaijan</td>\n",
       "      <td>5.15</td>\n",
       "      <td>9.68</td>\n",
       "      <td>0.79</td>\n",
       "      <td>65.2</td>\n",
       "      <td>0.73</td>\n",
       "      <td>-0.24</td>\n",
       "      <td>0.65</td>\n",
       "    </tr>\n",
       "    <tr>\n",
       "      <th>7</th>\n",
       "      <td>Bahrain</td>\n",
       "      <td>6.23</td>\n",
       "      <td>10.68</td>\n",
       "      <td>0.88</td>\n",
       "      <td>68.5</td>\n",
       "      <td>0.91</td>\n",
       "      <td>0.13</td>\n",
       "      <td>0.00</td>\n",
       "    </tr>\n",
       "    <tr>\n",
       "      <th>8</th>\n",
       "      <td>Bangladesh</td>\n",
       "      <td>4.31</td>\n",
       "      <td>8.20</td>\n",
       "      <td>0.71</td>\n",
       "      <td>63.8</td>\n",
       "      <td>0.90</td>\n",
       "      <td>0.02</td>\n",
       "      <td>0.64</td>\n",
       "    </tr>\n",
       "    <tr>\n",
       "      <th>9</th>\n",
       "      <td>Belarus</td>\n",
       "      <td>5.55</td>\n",
       "      <td>9.75</td>\n",
       "      <td>0.90</td>\n",
       "      <td>65.8</td>\n",
       "      <td>0.62</td>\n",
       "      <td>-0.13</td>\n",
       "      <td>0.65</td>\n",
       "    </tr>\n",
       "  </tbody>\n",
       "</table>\n",
       "</div>"
      ],
      "text/plain": [
       "  Country name  Happiness Index    GDP  Social Support  Life Expectancy  \\\n",
       "0  Afghanistan             2.66   7.47            0.49             52.8   \n",
       "1      Albania             4.64   9.38            0.64             68.4   \n",
       "2    Argentina             6.04   9.85            0.91             68.6   \n",
       "3      Armenia             4.29   9.08            0.70             66.6   \n",
       "4    Australia             7.26  10.71            0.95             73.3   \n",
       "5      Austria             7.29  10.73            0.91             72.7   \n",
       "6   Azerbaijan             5.15   9.68            0.79             65.2   \n",
       "7      Bahrain             6.23  10.68            0.88             68.5   \n",
       "8   Bangladesh             4.31   8.20            0.71             63.8   \n",
       "9      Belarus             5.55   9.75            0.90             65.8   \n",
       "\n",
       "   Freedom  Generosity  Perceptions of Corruption  \n",
       "0     0.43       -0.11                       0.95  \n",
       "1     0.75       -0.03                       0.88  \n",
       "2     0.83       -0.18                       0.84  \n",
       "3     0.61       -0.13                       0.86  \n",
       "4     0.91        0.31                       0.41  \n",
       "5     0.89        0.14                       0.52  \n",
       "6     0.73       -0.24                       0.65  \n",
       "7     0.91        0.13                       0.00  \n",
       "8     0.90        0.02                       0.64  \n",
       "9     0.62       -0.13                       0.65  "
      ]
     },
     "execution_count": 16,
     "metadata": {},
     "output_type": "execute_result"
    }
   ],
   "source": [
    "from functools import reduce\n",
    "data_sets = [happiness_2017, gdp_2017, social_support2017, life_expectancy2017, \n",
    "             freedom_2017, generosity_2017, perceptions_corruption2017]\n",
    "all_2017 = reduce(lambda left,right: pd.merge(left,right,on='Country name'), data_sets)\n",
    "all_2017.head(10)"
   ]
  },
  {
   "cell_type": "markdown",
   "metadata": {},
   "source": [
    "# Correlation Analysis"
   ]
  },
  {
   "cell_type": "code",
   "execution_count": 17,
   "metadata": {},
   "outputs": [
    {
     "data": {
      "text/html": [
       "<div>\n",
       "<style scoped>\n",
       "    .dataframe tbody tr th:only-of-type {\n",
       "        vertical-align: middle;\n",
       "    }\n",
       "\n",
       "    .dataframe tbody tr th {\n",
       "        vertical-align: top;\n",
       "    }\n",
       "\n",
       "    .dataframe thead th {\n",
       "        text-align: right;\n",
       "    }\n",
       "</style>\n",
       "<table border=\"1\" class=\"dataframe\">\n",
       "  <thead>\n",
       "    <tr style=\"text-align: right;\">\n",
       "      <th></th>\n",
       "      <th>Country name</th>\n",
       "      <th>Happiness Index</th>\n",
       "    </tr>\n",
       "  </thead>\n",
       "  <tbody>\n",
       "    <tr>\n",
       "      <th>36</th>\n",
       "      <td>Finland</td>\n",
       "      <td>7.79</td>\n",
       "    </tr>\n",
       "    <tr>\n",
       "      <th>30</th>\n",
       "      <td>Denmark</td>\n",
       "      <td>7.59</td>\n",
       "    </tr>\n",
       "    <tr>\n",
       "      <th>81</th>\n",
       "      <td>Netherlands</td>\n",
       "      <td>7.46</td>\n",
       "    </tr>\n",
       "    <tr>\n",
       "      <th>20</th>\n",
       "      <td>Canada</td>\n",
       "      <td>7.41</td>\n",
       "    </tr>\n",
       "    <tr>\n",
       "      <th>54</th>\n",
       "      <td>Israel</td>\n",
       "      <td>7.33</td>\n",
       "    </tr>\n",
       "    <tr>\n",
       "      <th>82</th>\n",
       "      <td>New Zealand</td>\n",
       "      <td>7.33</td>\n",
       "    </tr>\n",
       "    <tr>\n",
       "      <th>5</th>\n",
       "      <td>Austria</td>\n",
       "      <td>7.29</td>\n",
       "    </tr>\n",
       "    <tr>\n",
       "      <th>108</th>\n",
       "      <td>Sweden</td>\n",
       "      <td>7.29</td>\n",
       "    </tr>\n",
       "    <tr>\n",
       "      <th>4</th>\n",
       "      <td>Australia</td>\n",
       "      <td>7.26</td>\n",
       "    </tr>\n",
       "    <tr>\n",
       "      <th>26</th>\n",
       "      <td>Costa Rica</td>\n",
       "      <td>7.23</td>\n",
       "    </tr>\n",
       "  </tbody>\n",
       "</table>\n",
       "</div>"
      ],
      "text/plain": [
       "    Country name  Happiness Index\n",
       "36       Finland             7.79\n",
       "30       Denmark             7.59\n",
       "81   Netherlands             7.46\n",
       "20        Canada             7.41\n",
       "54        Israel             7.33\n",
       "82   New Zealand             7.33\n",
       "5        Austria             7.29\n",
       "108       Sweden             7.29\n",
       "4      Australia             7.26\n",
       "26    Costa Rica             7.23"
      ]
     },
     "execution_count": 17,
     "metadata": {},
     "output_type": "execute_result"
    }
   ],
   "source": [
    "# Determine Top countries by Happiness Index\n",
    "top_10_happy_countries = all_2017.sort_values(['Happiness Index'], ascending=False) \n",
    "slice_columns = [2, 3, 4, 5, 6, 7]\n",
    "top_10_happy_countries.drop(top_10_happy_countries.columns[slice_columns], axis=1, inplace=True)\n",
    "top_10_happy_countries.head(10)"
   ]
  },
  {
   "cell_type": "markdown",
   "metadata": {},
   "source": [
    "### GDP vs Happiness"
   ]
  },
  {
   "cell_type": "code",
   "execution_count": 18,
   "metadata": {},
   "outputs": [
    {
     "data": {
      "image/png": "[encoded data removed]",
      "text/plain": [
       "<Figure size 432x288 with 1 Axes>"
      ]
     },
     "metadata": {
      "needs_background": "light"
     },
     "output_type": "display_data"
    }
   ],
   "source": [
    "plt.scatter(all_2017['GDP'],all_2017['Happiness Index'],marker='o', c='maroon',\n",
    "            edgecolor= 'lightskyblue', alpha=0.70, s=50)\n",
    "plt.title(f\"Figure : GDP vs. Happiness \\n Y2017\")\n",
    "plt.xlabel(f\"GDP Per Capita\")\n",
    "plt.ylabel(f\"Happiness Index\")\n",
    "plt.grid(True)\n",
    "plt.tight_layout\n",
    "# plt.savefig('../Fig_GDPvsHappiness.png')\n",
    "plt.show()"
   ]
  },
  {
   "cell_type": "code",
   "execution_count": 19,
   "metadata": {},
   "outputs": [
    {
     "data": {
      "text/html": [
       "<div>\n",
       "<style scoped>\n",
       "    .dataframe tbody tr th:only-of-type {\n",
       "        vertical-align: middle;\n",
       "    }\n",
       "\n",
       "    .dataframe tbody tr th {\n",
       "        vertical-align: top;\n",
       "    }\n",
       "\n",
       "    .dataframe thead th {\n",
       "        text-align: right;\n",
       "    }\n",
       "</style>\n",
       "<table border=\"1\" class=\"dataframe\">\n",
       "  <thead>\n",
       "    <tr style=\"text-align: right;\">\n",
       "      <th></th>\n",
       "      <th>Country name</th>\n",
       "      <th>Happiness Index</th>\n",
       "      <th>GDP</th>\n",
       "    </tr>\n",
       "  </thead>\n",
       "  <tbody>\n",
       "    <tr>\n",
       "      <th>67</th>\n",
       "      <td>Luxembourg</td>\n",
       "      <td>7.06</td>\n",
       "      <td>11.44</td>\n",
       "    </tr>\n",
       "    <tr>\n",
       "      <th>101</th>\n",
       "      <td>Singapore</td>\n",
       "      <td>6.38</td>\n",
       "      <td>11.38</td>\n",
       "    </tr>\n",
       "    <tr>\n",
       "      <th>118</th>\n",
       "      <td>United Arab Emirates</td>\n",
       "      <td>7.04</td>\n",
       "      <td>11.11</td>\n",
       "    </tr>\n",
       "    <tr>\n",
       "      <th>53</th>\n",
       "      <td>Ireland</td>\n",
       "      <td>7.06</td>\n",
       "      <td>11.10</td>\n",
       "    </tr>\n",
       "    <tr>\n",
       "      <th>61</th>\n",
       "      <td>Kuwait</td>\n",
       "      <td>6.09</td>\n",
       "      <td>11.10</td>\n",
       "    </tr>\n",
       "    <tr>\n",
       "      <th>47</th>\n",
       "      <td>Hong Kong S.A.R. of China</td>\n",
       "      <td>5.36</td>\n",
       "      <td>10.93</td>\n",
       "    </tr>\n",
       "    <tr>\n",
       "      <th>120</th>\n",
       "      <td>United States</td>\n",
       "      <td>6.99</td>\n",
       "      <td>10.91</td>\n",
       "    </tr>\n",
       "    <tr>\n",
       "      <th>81</th>\n",
       "      <td>Netherlands</td>\n",
       "      <td>7.46</td>\n",
       "      <td>10.80</td>\n",
       "    </tr>\n",
       "    <tr>\n",
       "      <th>97</th>\n",
       "      <td>Saudi Arabia</td>\n",
       "      <td>6.29</td>\n",
       "      <td>10.80</td>\n",
       "    </tr>\n",
       "    <tr>\n",
       "      <th>109</th>\n",
       "      <td>Taiwan</td>\n",
       "      <td>6.36</td>\n",
       "      <td>10.78</td>\n",
       "    </tr>\n",
       "  </tbody>\n",
       "</table>\n",
       "</div>"
      ],
      "text/plain": [
       "                  Country name  Happiness Index    GDP\n",
       "67                  Luxembourg             7.06  11.44\n",
       "101                  Singapore             6.38  11.38\n",
       "118       United Arab Emirates             7.04  11.11\n",
       "53                     Ireland             7.06  11.10\n",
       "61                      Kuwait             6.09  11.10\n",
       "47   Hong Kong S.A.R. of China             5.36  10.93\n",
       "120              United States             6.99  10.91\n",
       "81                 Netherlands             7.46  10.80\n",
       "97                Saudi Arabia             6.29  10.80\n",
       "109                     Taiwan             6.36  10.78"
      ]
     },
     "execution_count": 19,
     "metadata": {},
     "output_type": "execute_result"
    }
   ],
   "source": [
    "# Determine Top countries by GDP\n",
    "top_10_GDP = all_2017.sort_values(['GDP'], ascending=False) \n",
    "slice_columns = [3, 4, 5, 6, 7]\n",
    "top_10_GDP.drop(top_10_GDP.columns[slice_columns], axis=1, inplace=True)\n",
    "top_10_GDP.head(10)"
   ]
  },
  {
   "cell_type": "code",
   "execution_count": 20,
   "metadata": {},
   "outputs": [
    {
     "data": {
      "text/html": [
       "<div>\n",
       "<style scoped>\n",
       "    .dataframe tbody tr th:only-of-type {\n",
       "        vertical-align: middle;\n",
       "    }\n",
       "\n",
       "    .dataframe tbody tr th {\n",
       "        vertical-align: top;\n",
       "    }\n",
       "\n",
       "    .dataframe thead th {\n",
       "        text-align: right;\n",
       "    }\n",
       "</style>\n",
       "<table border=\"1\" class=\"dataframe\">\n",
       "  <thead>\n",
       "    <tr style=\"text-align: right;\">\n",
       "      <th></th>\n",
       "      <th>Country name</th>\n",
       "      <th>Happiness Index</th>\n",
       "      <th>GDP</th>\n",
       "    </tr>\n",
       "  </thead>\n",
       "  <tbody>\n",
       "    <tr>\n",
       "      <th>84</th>\n",
       "      <td>Niger</td>\n",
       "      <td>4.62</td>\n",
       "      <td>6.83</td>\n",
       "    </tr>\n",
       "    <tr>\n",
       "      <th>70</th>\n",
       "      <td>Malawi</td>\n",
       "      <td>3.42</td>\n",
       "      <td>7.05</td>\n",
       "    </tr>\n",
       "    <tr>\n",
       "      <th>65</th>\n",
       "      <td>Liberia</td>\n",
       "      <td>4.42</td>\n",
       "      <td>7.07</td>\n",
       "    </tr>\n",
       "    <tr>\n",
       "      <th>100</th>\n",
       "      <td>Sierra Leone</td>\n",
       "      <td>4.09</td>\n",
       "      <td>7.25</td>\n",
       "    </tr>\n",
       "    <tr>\n",
       "      <th>69</th>\n",
       "      <td>Madagascar</td>\n",
       "      <td>4.08</td>\n",
       "      <td>7.26</td>\n",
       "    </tr>\n",
       "    <tr>\n",
       "      <th>45</th>\n",
       "      <td>Haiti</td>\n",
       "      <td>3.82</td>\n",
       "      <td>7.41</td>\n",
       "    </tr>\n",
       "    <tr>\n",
       "      <th>17</th>\n",
       "      <td>Burkina Faso</td>\n",
       "      <td>4.65</td>\n",
       "      <td>7.44</td>\n",
       "    </tr>\n",
       "    <tr>\n",
       "      <th>0</th>\n",
       "      <td>Afghanistan</td>\n",
       "      <td>2.66</td>\n",
       "      <td>7.47</td>\n",
       "    </tr>\n",
       "    <tr>\n",
       "      <th>21</th>\n",
       "      <td>Chad</td>\n",
       "      <td>4.56</td>\n",
       "      <td>7.47</td>\n",
       "    </tr>\n",
       "    <tr>\n",
       "      <th>116</th>\n",
       "      <td>Uganda</td>\n",
       "      <td>4.00</td>\n",
       "      <td>7.48</td>\n",
       "    </tr>\n",
       "  </tbody>\n",
       "</table>\n",
       "</div>"
      ],
      "text/plain": [
       "     Country name  Happiness Index   GDP\n",
       "84          Niger             4.62  6.83\n",
       "70         Malawi             3.42  7.05\n",
       "65        Liberia             4.42  7.07\n",
       "100  Sierra Leone             4.09  7.25\n",
       "69     Madagascar             4.08  7.26\n",
       "45          Haiti             3.82  7.41\n",
       "17   Burkina Faso             4.65  7.44\n",
       "0     Afghanistan             2.66  7.47\n",
       "21           Chad             4.56  7.47\n",
       "116        Uganda             4.00  7.48"
      ]
     },
     "execution_count": 20,
     "metadata": {},
     "output_type": "execute_result"
    }
   ],
   "source": [
    "# Determine Bottom countries by GDP\n",
    "bottom_10_GDP = all_2017.sort_values(['GDP'], ascending=True) \n",
    "slice_columns = [3, 4, 5, 6, 7]\n",
    "bottom_10_GDP.drop(bottom_10_GDP.columns[slice_columns], axis=1, inplace=True)\n",
    "bottom_10_GDP.head(10)"
   ]
  },
  {
   "cell_type": "code",
   "execution_count": 21,
   "metadata": {},
   "outputs": [
    {
     "name": "stderr",
     "output_type": "stream",
     "text": [
      "C:\\ProgramData\\Anaconda3\\lib\\site-packages\\pandas\\core\\frame.py:3997: SettingWithCopyWarning: \n",
      "A value is trying to be set on a copy of a slice from a DataFrame\n",
      "\n",
      "See the caveats in the documentation: https://pandas.pydata.org/pandas-docs/stable/user_guide/indexing.html#returning-a-view-versus-a-copy\n",
      "  errors=errors,\n"
     ]
    },
    {
     "data": {
      "text/html": [
       "<div>\n",
       "<style scoped>\n",
       "    .dataframe tbody tr th:only-of-type {\n",
       "        vertical-align: middle;\n",
       "    }\n",
       "\n",
       "    .dataframe tbody tr th {\n",
       "        vertical-align: top;\n",
       "    }\n",
       "\n",
       "    .dataframe thead th {\n",
       "        text-align: right;\n",
       "    }\n",
       "</style>\n",
       "<table border=\"1\" class=\"dataframe\">\n",
       "  <thead>\n",
       "    <tr style=\"text-align: right;\">\n",
       "      <th></th>\n",
       "      <th>Country name</th>\n",
       "      <th>Happiness Index</th>\n",
       "      <th>GDP</th>\n",
       "    </tr>\n",
       "  </thead>\n",
       "  <tbody>\n",
       "    <tr>\n",
       "      <th>47</th>\n",
       "      <td>Hong Kong S.A.R. of China</td>\n",
       "      <td>5.36</td>\n",
       "      <td>10.93</td>\n",
       "    </tr>\n",
       "    <tr>\n",
       "      <th>56</th>\n",
       "      <td>Japan</td>\n",
       "      <td>5.91</td>\n",
       "      <td>10.57</td>\n",
       "    </tr>\n",
       "    <tr>\n",
       "      <th>105</th>\n",
       "      <td>South Korea</td>\n",
       "      <td>5.87</td>\n",
       "      <td>10.49</td>\n",
       "    </tr>\n",
       "    <tr>\n",
       "      <th>35</th>\n",
       "      <td>Estonia</td>\n",
       "      <td>5.94</td>\n",
       "      <td>10.31</td>\n",
       "    </tr>\n",
       "    <tr>\n",
       "      <th>71</th>\n",
       "      <td>Malaysia</td>\n",
       "      <td>5.34</td>\n",
       "      <td>10.25</td>\n",
       "    </tr>\n",
       "    <tr>\n",
       "      <th>93</th>\n",
       "      <td>Portugal</td>\n",
       "      <td>5.71</td>\n",
       "      <td>10.24</td>\n",
       "    </tr>\n",
       "    <tr>\n",
       "      <th>63</th>\n",
       "      <td>Latvia</td>\n",
       "      <td>5.98</td>\n",
       "      <td>10.13</td>\n",
       "    </tr>\n",
       "    <tr>\n",
       "      <th>114</th>\n",
       "      <td>Turkey</td>\n",
       "      <td>5.61</td>\n",
       "      <td>10.13</td>\n",
       "    </tr>\n",
       "    <tr>\n",
       "      <th>95</th>\n",
       "      <td>Russia</td>\n",
       "      <td>5.58</td>\n",
       "      <td>10.12</td>\n",
       "    </tr>\n",
       "    <tr>\n",
       "      <th>42</th>\n",
       "      <td>Greece</td>\n",
       "      <td>5.15</td>\n",
       "      <td>10.11</td>\n",
       "    </tr>\n",
       "    <tr>\n",
       "      <th>58</th>\n",
       "      <td>Kazakhstan</td>\n",
       "      <td>5.88</td>\n",
       "      <td>10.09</td>\n",
       "    </tr>\n",
       "    <tr>\n",
       "      <th>27</th>\n",
       "      <td>Croatia</td>\n",
       "      <td>5.34</td>\n",
       "      <td>10.04</td>\n",
       "    </tr>\n",
       "  </tbody>\n",
       "</table>\n",
       "</div>"
      ],
      "text/plain": [
       "                  Country name  Happiness Index    GDP\n",
       "47   Hong Kong S.A.R. of China             5.36  10.93\n",
       "56                       Japan             5.91  10.57\n",
       "105                South Korea             5.87  10.49\n",
       "35                     Estonia             5.94  10.31\n",
       "71                    Malaysia             5.34  10.25\n",
       "93                    Portugal             5.71  10.24\n",
       "63                      Latvia             5.98  10.13\n",
       "114                     Turkey             5.61  10.13\n",
       "95                      Russia             5.58  10.12\n",
       "42                      Greece             5.15  10.11\n",
       "58                  Kazakhstan             5.88  10.09\n",
       "27                     Croatia             5.34  10.04"
      ]
     },
     "execution_count": 21,
     "metadata": {},
     "output_type": "execute_result"
    }
   ],
   "source": [
    "# Inspect for Low Happiness but Higher GDP outlier countries within a set criteria for analysis\n",
    "outlier_gdp= all_2017[(all_2017[\"Happiness Index\"]<=6) & (all_2017[\"GDP\"] >=10)] \n",
    "slice_columns = [3, 4, 5, 6, 7]\n",
    "outlier_gdp.drop(outlier_gdp.columns[slice_columns], axis=1, inplace=True)\n",
    "# Sort by greatest gdp\n",
    "LowHappy_HighGDP = outlier_gdp.sort_values(['GDP', 'Happiness Index'], ascending=[False, False]) \n",
    "# LowHappy_HighGDP.to_csv('LowHappy_HighGDP_2017.csv')\n",
    "LowHappy_HighGDP"
   ]
  },
  {
   "cell_type": "code",
   "execution_count": 22,
   "metadata": {},
   "outputs": [
    {
     "data": {
      "text/plain": [
       "Country name       Greece\n",
       "Happiness Index      5.15\n",
       "GDP                 10.11\n",
       "Name: 42, dtype: object"
      ]
     },
     "execution_count": 22,
     "metadata": {},
     "output_type": "execute_result"
    }
   ],
   "source": [
    "# Lowest happiness index country (within set criteria of outliers) but high GDP \n",
    "LowHappy_HighGDP.loc[LowHappy_HighGDP['Happiness Index'].idxmin()]"
   ]
  },
  {
   "cell_type": "code",
   "execution_count": 23,
   "metadata": {},
   "outputs": [
    {
     "data": {
      "text/plain": [
       "Country name       Hong Kong S.A.R. of China\n",
       "Happiness Index                         5.36\n",
       "GDP                                    10.93\n",
       "Name: 47, dtype: object"
      ]
     },
     "execution_count": 23,
     "metadata": {},
     "output_type": "execute_result"
    }
   ],
   "source": [
    "# Greatest GDP (within set criteria of outliers) but fairly low happiness \n",
    "LowHappy_HighGDP.loc[LowHappy_HighGDP['GDP'].idxmax()]"
   ]
  },
  {
   "cell_type": "code",
   "execution_count": 24,
   "metadata": {},
   "outputs": [
    {
     "data": {
      "text/html": [
       "<div>\n",
       "<style scoped>\n",
       "    .dataframe tbody tr th:only-of-type {\n",
       "        vertical-align: middle;\n",
       "    }\n",
       "\n",
       "    .dataframe tbody tr th {\n",
       "        vertical-align: top;\n",
       "    }\n",
       "\n",
       "    .dataframe thead th {\n",
       "        text-align: right;\n",
       "    }\n",
       "</style>\n",
       "<table border=\"1\" class=\"dataframe\">\n",
       "  <thead>\n",
       "    <tr style=\"text-align: right;\">\n",
       "      <th></th>\n",
       "      <th>Country name</th>\n",
       "      <th>Happiness Index</th>\n",
       "      <th>GDP</th>\n",
       "    </tr>\n",
       "  </thead>\n",
       "  <tbody>\n",
       "    <tr>\n",
       "      <th>63</th>\n",
       "      <td>Latvia</td>\n",
       "      <td>5.98</td>\n",
       "      <td>10.13</td>\n",
       "    </tr>\n",
       "    <tr>\n",
       "      <th>35</th>\n",
       "      <td>Estonia</td>\n",
       "      <td>5.94</td>\n",
       "      <td>10.31</td>\n",
       "    </tr>\n",
       "    <tr>\n",
       "      <th>58</th>\n",
       "      <td>Kazakhstan</td>\n",
       "      <td>5.88</td>\n",
       "      <td>10.09</td>\n",
       "    </tr>\n",
       "    <tr>\n",
       "      <th>105</th>\n",
       "      <td>South Korea</td>\n",
       "      <td>5.87</td>\n",
       "      <td>10.49</td>\n",
       "    </tr>\n",
       "    <tr>\n",
       "      <th>93</th>\n",
       "      <td>Portugal</td>\n",
       "      <td>5.71</td>\n",
       "      <td>10.24</td>\n",
       "    </tr>\n",
       "    <tr>\n",
       "      <th>114</th>\n",
       "      <td>Turkey</td>\n",
       "      <td>5.61</td>\n",
       "      <td>10.13</td>\n",
       "    </tr>\n",
       "    <tr>\n",
       "      <th>95</th>\n",
       "      <td>Russia</td>\n",
       "      <td>5.58</td>\n",
       "      <td>10.12</td>\n",
       "    </tr>\n",
       "  </tbody>\n",
       "</table>\n",
       "</div>"
      ],
      "text/plain": [
       "    Country name  Happiness Index    GDP\n",
       "63        Latvia             5.98  10.13\n",
       "35       Estonia             5.94  10.31\n",
       "58    Kazakhstan             5.88  10.09\n",
       "105  South Korea             5.87  10.49\n",
       "93      Portugal             5.71  10.24\n",
       "114       Turkey             5.61  10.13\n",
       "95        Russia             5.58  10.12"
      ]
     },
     "execution_count": 24,
     "metadata": {},
     "output_type": "execute_result"
    }
   ],
   "source": [
    "# Inspect for High Happiness but lower GDP outliers \n",
    "HighHappy_lowGDP = outlier_gdp.sort_values(['Happiness Index'], ascending=False)\n",
    "HighHappy_LowGDP = HighHappy_lowGDP[(HighHappy_lowGDP['Happiness Index']>=5.5) & (HighHappy_lowGDP['GDP']<=10.5)]\n",
    "# LowHappy_HighGDP.to_csv('LowHappy_HighGDP_2017.csv')\n",
    "HighHappy_LowGDP"
   ]
  },
  {
   "cell_type": "markdown",
   "metadata": {},
   "source": [
    "#### Observations: \n",
    "* Interesting countries \n",
    "---\n",
    "    (Low Happiness, High GDP) : \"Greece, Hong Kong????\" +  South Korea, Russia, Croatia, Hungary  ?\n",
    "    (High Happiness, Low GDP) : "
   ]
  },
  {
   "cell_type": "markdown",
   "metadata": {},
   "source": [
    "* Correlation Coefficient & Linear Regression"
   ]
  },
  {
   "cell_type": "code",
   "execution_count": 25,
   "metadata": {},
   "outputs": [],
   "source": [
    "def linregres_func(x_values, y_values, x_label, y_label, ann_horizontal, ann_vertical): # savefile\n",
    "                                                                            \n",
    "    (slope, intercept, rvalue, pvalue, stderr) = linregress(x_values, y_values)\n",
    "    \n",
    "    regress_values = x_values * slope + intercept\n",
    "    eq_line = \"y = \" + str(round(slope,2)) + \"x + \" + str(round(intercept,2))\n",
    "    \n",
    "    plt.scatter(x_values, y_values, c='lightskyblue', edgecolor='maroon')\n",
    "    plt.plot(x_values, regress_values, 'r-')\n",
    "    plt.annotate(eq_line, (ann_horizontal, ann_vertical), fontsize=11, color='red')\n",
    "    plt.title(f\" {x_label} vs {y_label} \\n Y2017\")\n",
    "    plt.xlabel(x_label)\n",
    "    plt.ylabel(y_label)\n",
    "    plt.tight_layout\n",
    "    print(f\"The r-squared is: {rvalue}\")\n",
    "#     plt.savefig(f'figures/{savefile}')\n",
    "    plt.show()"
   ]
  },
  {
   "cell_type": "code",
   "execution_count": 26,
   "metadata": {},
   "outputs": [
    {
     "name": "stdout",
     "output_type": "stream",
     "text": [
      "The r-squared is: 0.7413645704025489\n"
     ]
    },
    {
     "data": {
      "image/png": "[encoded data removed]",
      "text/plain": [
       "<Figure size 432x288 with 1 Axes>"
      ]
     },
     "metadata": {
      "needs_background": "light"
     },
     "output_type": "display_data"
    }
   ],
   "source": [
    "linregres_func(all_2017[\"GDP\"], all_2017[\"Happiness Index\"], 'GDP', 'Happiness Index', 7, 7)"
   ]
  },
  {
   "cell_type": "markdown",
   "metadata": {},
   "source": [
    "### Social Support vs Happiness"
   ]
  },
  {
   "cell_type": "code",
   "execution_count": 27,
   "metadata": {},
   "outputs": [
    {
     "data": {
      "image/png": "[encoded data removed]",
      "text/plain": [
       "<Figure size 432x288 with 1 Axes>"
      ]
     },
     "metadata": {
      "needs_background": "light"
     },
     "output_type": "display_data"
    }
   ],
   "source": [
    "plt.scatter(all_2017['Social Support'],all_2017['Happiness Index'],marker='o', c='maroon',\n",
    "            edgecolor= 'lightskyblue', alpha=0.70, s=50)\n",
    "plt.title(f\"Figure : Social Support vs. Happiness \\n Y2017\")\n",
    "plt.xlabel(f\"Social Support\")\n",
    "plt.ylabel(f\"Happiness Index\")\n",
    "plt.grid(True)\n",
    "plt.tight_layout\n",
    "# plt.savefig('../Fig_Social SupportvsHappiness.png')\n",
    "plt.show()"
   ]
  },
  {
   "cell_type": "code",
   "execution_count": 28,
   "metadata": {},
   "outputs": [
    {
     "data": {
      "text/html": [
       "<div>\n",
       "<style scoped>\n",
       "    .dataframe tbody tr th:only-of-type {\n",
       "        vertical-align: middle;\n",
       "    }\n",
       "\n",
       "    .dataframe tbody tr th {\n",
       "        vertical-align: top;\n",
       "    }\n",
       "\n",
       "    .dataframe thead th {\n",
       "        text-align: right;\n",
       "    }\n",
       "</style>\n",
       "<table border=\"1\" class=\"dataframe\">\n",
       "  <thead>\n",
       "    <tr style=\"text-align: right;\">\n",
       "      <th></th>\n",
       "      <th>Country name</th>\n",
       "      <th>Happiness Index</th>\n",
       "      <th>Social Support</th>\n",
       "    </tr>\n",
       "  </thead>\n",
       "  <tbody>\n",
       "    <tr>\n",
       "      <th>36</th>\n",
       "      <td>Finland</td>\n",
       "      <td>7.79</td>\n",
       "      <td>0.96</td>\n",
       "    </tr>\n",
       "    <tr>\n",
       "      <th>30</th>\n",
       "      <td>Denmark</td>\n",
       "      <td>7.59</td>\n",
       "      <td>0.95</td>\n",
       "    </tr>\n",
       "    <tr>\n",
       "      <th>82</th>\n",
       "      <td>New Zealand</td>\n",
       "      <td>7.33</td>\n",
       "      <td>0.95</td>\n",
       "    </tr>\n",
       "    <tr>\n",
       "      <th>4</th>\n",
       "      <td>Australia</td>\n",
       "      <td>7.26</td>\n",
       "      <td>0.95</td>\n",
       "    </tr>\n",
       "    <tr>\n",
       "      <th>73</th>\n",
       "      <td>Malta</td>\n",
       "      <td>6.68</td>\n",
       "      <td>0.94</td>\n",
       "    </tr>\n",
       "    <tr>\n",
       "      <th>16</th>\n",
       "      <td>Bulgaria</td>\n",
       "      <td>5.10</td>\n",
       "      <td>0.94</td>\n",
       "    </tr>\n",
       "    <tr>\n",
       "      <th>119</th>\n",
       "      <td>United Kingdom</td>\n",
       "      <td>7.10</td>\n",
       "      <td>0.94</td>\n",
       "    </tr>\n",
       "    <tr>\n",
       "      <th>122</th>\n",
       "      <td>Uzbekistan</td>\n",
       "      <td>6.42</td>\n",
       "      <td>0.94</td>\n",
       "    </tr>\n",
       "    <tr>\n",
       "      <th>53</th>\n",
       "      <td>Ireland</td>\n",
       "      <td>7.06</td>\n",
       "      <td>0.94</td>\n",
       "    </tr>\n",
       "    <tr>\n",
       "      <th>35</th>\n",
       "      <td>Estonia</td>\n",
       "      <td>5.94</td>\n",
       "      <td>0.94</td>\n",
       "    </tr>\n",
       "  </tbody>\n",
       "</table>\n",
       "</div>"
      ],
      "text/plain": [
       "       Country name  Happiness Index  Social Support\n",
       "36          Finland             7.79            0.96\n",
       "30          Denmark             7.59            0.95\n",
       "82      New Zealand             7.33            0.95\n",
       "4         Australia             7.26            0.95\n",
       "73            Malta             6.68            0.94\n",
       "16         Bulgaria             5.10            0.94\n",
       "119  United Kingdom             7.10            0.94\n",
       "122      Uzbekistan             6.42            0.94\n",
       "53          Ireland             7.06            0.94\n",
       "35          Estonia             5.94            0.94"
      ]
     },
     "execution_count": 28,
     "metadata": {},
     "output_type": "execute_result"
    }
   ],
   "source": [
    "# Determine Top countries by Social Support\n",
    "top_10_Social_Support = all_2017.sort_values(['Social Support'], ascending=False) \n",
    "slice_columns = [2, 4, 5, 6, 7]\n",
    "top_10_Social_Support.drop(top_10_Social_Support.columns[slice_columns], axis=1, inplace=True)\n",
    "top_10_Social_Support.head(10)"
   ]
  },
  {
   "cell_type": "code",
   "execution_count": 29,
   "metadata": {},
   "outputs": [
    {
     "name": "stdout",
     "output_type": "stream",
     "text": [
      "The r-squared is: 0.6438603376980208\n"
     ]
    },
    {
     "data": {
      "image/png": "[encoded data removed]",
      "text/plain": [
       "<Figure size 432x288 with 1 Axes>"
      ]
     },
     "metadata": {
      "needs_background": "light"
     },
     "output_type": "display_data"
    }
   ],
   "source": [
    "linregres_func(all_2017[\"Social Support\"], all_2017[\"Happiness Index\"], 'Social Support', 'Happiness Index', 0.2, 5.5)"
   ]
  },
  {
   "cell_type": "markdown",
   "metadata": {},
   "source": [
    "### Life Expectancy vs Happiness"
   ]
  },
  {
   "cell_type": "code",
   "execution_count": 30,
   "metadata": {},
   "outputs": [
    {
     "data": {
      "image/png": "[encoded data removed]",
      "text/plain": [
       "<Figure size 432x288 with 1 Axes>"
      ]
     },
     "metadata": {
      "needs_background": "light"
     },
     "output_type": "display_data"
    }
   ],
   "source": [
    "plt.scatter(all_2017['Life Expectancy'],all_2017['Happiness Index'],marker='o', c='maroon',\n",
    "            edgecolor= 'lightskyblue', alpha=0.70, s=50)\n",
    "plt.title(f\"Figure : Life Expectancy vs. Happiness \\n Y2017\")\n",
    "plt.xlabel(f\"Life Expectancy\")\n",
    "plt.ylabel(f\"Happiness Index\")\n",
    "plt.grid(True)\n",
    "plt.tight_layout\n",
    "# plt.savefig('../Fig_Life ExpectancyvsHappiness.png')\n",
    "plt.show()"
   ]
  },
  {
   "cell_type": "code",
   "execution_count": 31,
   "metadata": {},
   "outputs": [
    {
     "data": {
      "text/html": [
       "<div>\n",
       "<style scoped>\n",
       "    .dataframe tbody tr th:only-of-type {\n",
       "        vertical-align: middle;\n",
       "    }\n",
       "\n",
       "    .dataframe tbody tr th {\n",
       "        vertical-align: top;\n",
       "    }\n",
       "\n",
       "    .dataframe thead th {\n",
       "        text-align: right;\n",
       "    }\n",
       "</style>\n",
       "<table border=\"1\" class=\"dataframe\">\n",
       "  <thead>\n",
       "    <tr style=\"text-align: right;\">\n",
       "      <th></th>\n",
       "      <th>Country name</th>\n",
       "      <th>Happiness Index</th>\n",
       "      <th>GDP</th>\n",
       "      <th>Social Support</th>\n",
       "      <th>Life Expectancy</th>\n",
       "      <th>Freedom</th>\n",
       "      <th>Generosity</th>\n",
       "      <th>Perceptions of Corruption</th>\n",
       "    </tr>\n",
       "  </thead>\n",
       "  <tbody>\n",
       "    <tr>\n",
       "      <th>47</th>\n",
       "      <td>Hong Kong S.A.R. of China</td>\n",
       "      <td>5.36</td>\n",
       "      <td>10.93</td>\n",
       "      <td>0.83</td>\n",
       "      <td>0.0</td>\n",
       "      <td>0.83</td>\n",
       "      <td>0.13</td>\n",
       "      <td>0.42</td>\n",
       "    </tr>\n",
       "    <tr>\n",
       "      <th>60</th>\n",
       "      <td>Kosovo</td>\n",
       "      <td>6.15</td>\n",
       "      <td>9.19</td>\n",
       "      <td>0.79</td>\n",
       "      <td>0.0</td>\n",
       "      <td>0.86</td>\n",
       "      <td>0.12</td>\n",
       "      <td>0.93</td>\n",
       "    </tr>\n",
       "    <tr>\n",
       "      <th>87</th>\n",
       "      <td>Palestinian Territories</td>\n",
       "      <td>4.63</td>\n",
       "      <td>8.39</td>\n",
       "      <td>0.82</td>\n",
       "      <td>0.0</td>\n",
       "      <td>0.63</td>\n",
       "      <td>-0.16</td>\n",
       "      <td>0.83</td>\n",
       "    </tr>\n",
       "    <tr>\n",
       "      <th>109</th>\n",
       "      <td>Taiwan</td>\n",
       "      <td>6.36</td>\n",
       "      <td>10.78</td>\n",
       "      <td>0.89</td>\n",
       "      <td>0.0</td>\n",
       "      <td>0.76</td>\n",
       "      <td>-0.07</td>\n",
       "      <td>0.74</td>\n",
       "    </tr>\n",
       "  </tbody>\n",
       "</table>\n",
       "</div>"
      ],
      "text/plain": [
       "                  Country name  Happiness Index    GDP  Social Support  \\\n",
       "47   Hong Kong S.A.R. of China             5.36  10.93            0.83   \n",
       "60                      Kosovo             6.15   9.19            0.79   \n",
       "87     Palestinian Territories             4.63   8.39            0.82   \n",
       "109                     Taiwan             6.36  10.78            0.89   \n",
       "\n",
       "     Life Expectancy  Freedom  Generosity  Perceptions of Corruption  \n",
       "47               0.0     0.83        0.13                       0.42  \n",
       "60               0.0     0.86        0.12                       0.93  \n",
       "87               0.0     0.63       -0.16                       0.83  \n",
       "109              0.0     0.76       -0.07                       0.74  "
      ]
     },
     "execution_count": 31,
     "metadata": {},
     "output_type": "execute_result"
    }
   ],
   "source": [
    "# Check countries with Zero value?\n",
    "zero_life = all_2017[(all_2017[\"Life Expectancy\"]<=1)] #& (HappinessIndex[\"Log GDP per capita\"]<=9.5)] \n",
    "zero_life.head(20)"
   ]
  },
  {
   "cell_type": "code",
   "execution_count": 32,
   "metadata": {},
   "outputs": [
    {
     "name": "stdout",
     "output_type": "stream",
     "text": [
      "The r-squared is: 0.34118940772005485\n"
     ]
    },
    {
     "data": {
      "image/png": "[encoded data removed]",
      "text/plain": [
       "<Figure size 432x288 with 1 Axes>"
      ]
     },
     "metadata": {
      "needs_background": "light"
     },
     "output_type": "display_data"
    }
   ],
   "source": [
    "linregres_func(all_2017[\"Life Expectancy\"], all_2017[\"Happiness Index\"], 'Life Expectancy', 'Happiness Index', 5, 5.5)"
   ]
  },
  {
   "cell_type": "markdown",
   "metadata": {},
   "source": [
    "### Freedom vs Happiness"
   ]
  },
  {
   "cell_type": "code",
   "execution_count": 33,
   "metadata": {},
   "outputs": [
    {
     "data": {
      "image/png": "[encoded data removed]",
      "text/plain": [
       "<Figure size 432x288 with 1 Axes>"
      ]
     },
     "metadata": {
      "needs_background": "light"
     },
     "output_type": "display_data"
    }
   ],
   "source": [
    "plt.scatter(all_2017['Freedom'],all_2017['Happiness Index'],marker='o', c='maroon',\n",
    "            edgecolor= 'lightskyblue', alpha=0.70, s=50)\n",
    "plt.title(f\"Figure : Freedom vs. Happiness \\n Y2017\")\n",
    "plt.xlabel(f\"Freedom\")\n",
    "plt.ylabel(f\"Happiness Index\")\n",
    "plt.grid(True)\n",
    "plt.tight_layout\n",
    "# plt.savefig('../Fig_FreedomvsHappiness.png')\n",
    "plt.show()"
   ]
  },
  {
   "cell_type": "code",
   "execution_count": 34,
   "metadata": {},
   "outputs": [
    {
     "data": {
      "text/html": [
       "<div>\n",
       "<style scoped>\n",
       "    .dataframe tbody tr th:only-of-type {\n",
       "        vertical-align: middle;\n",
       "    }\n",
       "\n",
       "    .dataframe tbody tr th {\n",
       "        vertical-align: top;\n",
       "    }\n",
       "\n",
       "    .dataframe thead th {\n",
       "        text-align: right;\n",
       "    }\n",
       "</style>\n",
       "<table border=\"1\" class=\"dataframe\">\n",
       "  <thead>\n",
       "    <tr style=\"text-align: right;\">\n",
       "      <th></th>\n",
       "      <th>Country name</th>\n",
       "      <th>Happiness Index</th>\n",
       "      <th>GDP</th>\n",
       "      <th>Social Support</th>\n",
       "      <th>Life Expectancy</th>\n",
       "      <th>Freedom</th>\n",
       "      <th>Generosity</th>\n",
       "      <th>Perceptions of Corruption</th>\n",
       "    </tr>\n",
       "  </thead>\n",
       "  <tbody>\n",
       "    <tr>\n",
       "      <th>124</th>\n",
       "      <td>Vietnam</td>\n",
       "      <td>5.18</td>\n",
       "      <td>8.74</td>\n",
       "      <td>0.0</td>\n",
       "      <td>67.7</td>\n",
       "      <td>0.0</td>\n",
       "      <td>0.0</td>\n",
       "      <td>0.0</td>\n",
       "    </tr>\n",
       "  </tbody>\n",
       "</table>\n",
       "</div>"
      ],
      "text/plain": [
       "    Country name  Happiness Index   GDP  Social Support  Life Expectancy  \\\n",
       "124      Vietnam             5.18  8.74             0.0             67.7   \n",
       "\n",
       "     Freedom  Generosity  Perceptions of Corruption  \n",
       "124      0.0         0.0                        0.0  "
      ]
     },
     "execution_count": 34,
     "metadata": {},
     "output_type": "execute_result"
    }
   ],
   "source": [
    "# Check countries with Zero value?\n",
    "zero_freedom = all_2017[(all_2017[\"Freedom\"]<=0.2)] #& (HappinessIndex[\"Log GDP per capita\"]<=9.5)] \n",
    "zero_freedom.head(20)"
   ]
  },
  {
   "cell_type": "code",
   "execution_count": 35,
   "metadata": {},
   "outputs": [
    {
     "name": "stdout",
     "output_type": "stream",
     "text": [
      "The r-squared is: 0.4675948025468307\n"
     ]
    },
    {
     "data": {
      "image/png": "[encoded data removed]",
      "text/plain": [
       "<Figure size 432x288 with 1 Axes>"
      ]
     },
     "metadata": {
      "needs_background": "light"
     },
     "output_type": "display_data"
    }
   ],
   "source": [
    "linregres_func(all_2017[\"Freedom\"], all_2017[\"Happiness Index\"], 'Freedom', 'Happiness Index', 0.3, 6.3)"
   ]
  },
  {
   "cell_type": "code",
   "execution_count": 36,
   "metadata": {},
   "outputs": [
    {
     "data": {
      "text/html": [
       "<div>\n",
       "<style scoped>\n",
       "    .dataframe tbody tr th:only-of-type {\n",
       "        vertical-align: middle;\n",
       "    }\n",
       "\n",
       "    .dataframe tbody tr th {\n",
       "        vertical-align: top;\n",
       "    }\n",
       "\n",
       "    .dataframe thead th {\n",
       "        text-align: right;\n",
       "    }\n",
       "</style>\n",
       "<table border=\"1\" class=\"dataframe\">\n",
       "  <thead>\n",
       "    <tr style=\"text-align: right;\">\n",
       "      <th></th>\n",
       "      <th>Country name</th>\n",
       "      <th>Happiness Index</th>\n",
       "      <th>GDP</th>\n",
       "      <th>Social Support</th>\n",
       "      <th>Life Expectancy</th>\n",
       "      <th>Freedom</th>\n",
       "      <th>Generosity</th>\n",
       "      <th>Perceptions of Corruption</th>\n",
       "    </tr>\n",
       "  </thead>\n",
       "  <tbody>\n",
       "    <tr>\n",
       "      <th>0</th>\n",
       "      <td>Afghanistan</td>\n",
       "      <td>2.66</td>\n",
       "      <td>7.47</td>\n",
       "      <td>0.49</td>\n",
       "      <td>52.8</td>\n",
       "      <td>0.43</td>\n",
       "      <td>-0.11</td>\n",
       "      <td>0.95</td>\n",
       "    </tr>\n",
       "    <tr>\n",
       "      <th>1</th>\n",
       "      <td>Albania</td>\n",
       "      <td>4.64</td>\n",
       "      <td>9.38</td>\n",
       "      <td>0.64</td>\n",
       "      <td>68.4</td>\n",
       "      <td>0.75</td>\n",
       "      <td>-0.03</td>\n",
       "      <td>0.88</td>\n",
       "    </tr>\n",
       "    <tr>\n",
       "      <th>2</th>\n",
       "      <td>Argentina</td>\n",
       "      <td>6.04</td>\n",
       "      <td>9.85</td>\n",
       "      <td>0.91</td>\n",
       "      <td>68.6</td>\n",
       "      <td>0.83</td>\n",
       "      <td>-0.18</td>\n",
       "      <td>0.84</td>\n",
       "    </tr>\n",
       "    <tr>\n",
       "      <th>3</th>\n",
       "      <td>Armenia</td>\n",
       "      <td>4.29</td>\n",
       "      <td>9.08</td>\n",
       "      <td>0.70</td>\n",
       "      <td>66.6</td>\n",
       "      <td>0.61</td>\n",
       "      <td>-0.13</td>\n",
       "      <td>0.86</td>\n",
       "    </tr>\n",
       "    <tr>\n",
       "      <th>4</th>\n",
       "      <td>Australia</td>\n",
       "      <td>7.26</td>\n",
       "      <td>10.71</td>\n",
       "      <td>0.95</td>\n",
       "      <td>73.3</td>\n",
       "      <td>0.91</td>\n",
       "      <td>0.31</td>\n",
       "      <td>0.41</td>\n",
       "    </tr>\n",
       "  </tbody>\n",
       "</table>\n",
       "</div>"
      ],
      "text/plain": [
       "  Country name  Happiness Index    GDP  Social Support  Life Expectancy  \\\n",
       "0  Afghanistan             2.66   7.47            0.49             52.8   \n",
       "1      Albania             4.64   9.38            0.64             68.4   \n",
       "2    Argentina             6.04   9.85            0.91             68.6   \n",
       "3      Armenia             4.29   9.08            0.70             66.6   \n",
       "4    Australia             7.26  10.71            0.95             73.3   \n",
       "\n",
       "   Freedom  Generosity  Perceptions of Corruption  \n",
       "0     0.43       -0.11                       0.95  \n",
       "1     0.75       -0.03                       0.88  \n",
       "2     0.83       -0.18                       0.84  \n",
       "3     0.61       -0.13                       0.86  \n",
       "4     0.91        0.31                       0.41  "
      ]
     },
     "execution_count": 36,
     "metadata": {},
     "output_type": "execute_result"
    }
   ],
   "source": [
    "all_2017.head()"
   ]
  },
  {
   "cell_type": "markdown",
   "metadata": {},
   "source": [
    "### Generosity vs Happiness"
   ]
  },
  {
   "cell_type": "code",
   "execution_count": 37,
   "metadata": {},
   "outputs": [
    {
     "data": {
      "image/png": "[encoded data removed]",
      "text/plain": [
       "<Figure size 432x288 with 1 Axes>"
      ]
     },
     "metadata": {
      "needs_background": "light"
     },
     "output_type": "display_data"
    }
   ],
   "source": [
    "plt.scatter(all_2017['Generosity'],all_2017['Happiness Index'],marker='o', c='maroon',\n",
    "            edgecolor= 'lightskyblue', alpha=0.70, s=50)\n",
    "plt.title(f\"Figure : Generosity vs. Happiness \\n Y2017\")\n",
    "plt.xlabel(f\"Generosity\")\n",
    "plt.ylabel(f\"Happiness Index\")\n",
    "plt.grid(True)\n",
    "plt.tight_layout\n",
    "# plt.savefig('../Fig_GenerosityvsHappiness.png')\n",
    "plt.show()"
   ]
  },
  {
   "cell_type": "code",
   "execution_count": 38,
   "metadata": {},
   "outputs": [
    {
     "name": "stderr",
     "output_type": "stream",
     "text": [
      "C:\\ProgramData\\Anaconda3\\lib\\site-packages\\pandas\\core\\frame.py:3997: SettingWithCopyWarning: \n",
      "A value is trying to be set on a copy of a slice from a DataFrame\n",
      "\n",
      "See the caveats in the documentation: https://pandas.pydata.org/pandas-docs/stable/user_guide/indexing.html#returning-a-view-versus-a-copy\n",
      "  errors=errors,\n"
     ]
    },
    {
     "data": {
      "text/html": [
       "<div>\n",
       "<style scoped>\n",
       "    .dataframe tbody tr th:only-of-type {\n",
       "        vertical-align: middle;\n",
       "    }\n",
       "\n",
       "    .dataframe tbody tr th {\n",
       "        vertical-align: top;\n",
       "    }\n",
       "\n",
       "    .dataframe thead th {\n",
       "        text-align: right;\n",
       "    }\n",
       "</style>\n",
       "<table border=\"1\" class=\"dataframe\">\n",
       "  <thead>\n",
       "    <tr style=\"text-align: right;\">\n",
       "      <th></th>\n",
       "      <th>Country name</th>\n",
       "      <th>Happiness Index</th>\n",
       "      <th>GDP</th>\n",
       "      <th>Generosity</th>\n",
       "    </tr>\n",
       "  </thead>\n",
       "  <tbody>\n",
       "    <tr>\n",
       "      <th>45</th>\n",
       "      <td>Haiti</td>\n",
       "      <td>3.82</td>\n",
       "      <td>7.41</td>\n",
       "      <td>0.38</td>\n",
       "    </tr>\n",
       "    <tr>\n",
       "      <th>50</th>\n",
       "      <td>Indonesia</td>\n",
       "      <td>5.10</td>\n",
       "      <td>9.32</td>\n",
       "      <td>0.48</td>\n",
       "    </tr>\n",
       "  </tbody>\n",
       "</table>\n",
       "</div>"
      ],
      "text/plain": [
       "   Country name  Happiness Index   GDP  Generosity\n",
       "45        Haiti             3.82  7.41        0.38\n",
       "50    Indonesia             5.10  9.32        0.48"
      ]
     },
     "execution_count": 38,
     "metadata": {},
     "output_type": "execute_result"
    }
   ],
   "source": [
    "# Inspect Generosity outliers \n",
    "outlier_Generosity = all_2017[(all_2017[\"Happiness Index\"]<=5.5) & (all_2017[\"Generosity\"] >=0.3)] \n",
    "slice_columns = [ 3, 4, 5, 7]\n",
    "outlier_Generosity.drop(outlier_Generosity.columns[slice_columns], axis=1, inplace=True)\n",
    "outlier_Generosity"
   ]
  },
  {
   "cell_type": "markdown",
   "metadata": {},
   "source": [
    "#### Observations: \n",
    "* Interesting country\n",
    "---\n",
    "    (Top in Generosity, not high GDP, but Happier?) : \"Indonesia\" "
   ]
  },
  {
   "cell_type": "code",
   "execution_count": 39,
   "metadata": {},
   "outputs": [
    {
     "name": "stdout",
     "output_type": "stream",
     "text": [
      "The r-squared is: 0.2257819992813793\n"
     ]
    },
    {
     "data": {
      "image/png": "[encoded data removed]",
      "text/plain": [
       "<Figure size 432x288 with 1 Axes>"
      ]
     },
     "metadata": {
      "needs_background": "light"
     },
     "output_type": "display_data"
    }
   ],
   "source": [
    "linregres_func(all_2017[\"Generosity\"], all_2017[\"Happiness Index\"], 'Generosity', 'Happiness Index', 0.25, 5.5)"
   ]
  },
  {
   "cell_type": "markdown",
   "metadata": {},
   "source": [
    "### Perceptions of Corruption vs Happiness"
   ]
  },
  {
   "cell_type": "code",
   "execution_count": 41,
   "metadata": {},
   "outputs": [
    {
     "data": {
      "image/png": "[encoded data removed]",
      "text/plain": [
       "<Figure size 432x288 with 1 Axes>"
      ]
     },
     "metadata": {
      "needs_background": "light"
     },
     "output_type": "display_data"
    }
   ],
   "source": [
    "plt.scatter(all_2017['Perceptions of Corruption'],all_2017['Happiness Index'],marker='o', c='maroon',\n",
    "            edgecolor= 'lightskyblue', alpha=0.70, s=50)\n",
    "plt.title(f\"Figure : Generosity vs. Happiness \\n Y2017\")\n",
    "plt.xlabel(f\"Perceptions of Corruption\")\n",
    "plt.ylabel(f\"Happiness Index\")\n",
    "plt.grid(True)\n",
    "plt.tight_layout\n",
    "# plt.savefig('../Fig_Perceptions_of_CorruptionvsHappiness.png')\n",
    "plt.show()"
   ]
  },
  {
   "cell_type": "code",
   "execution_count": 42,
   "metadata": {},
   "outputs": [
    {
     "data": {
      "text/html": [
       "<div>\n",
       "<style scoped>\n",
       "    .dataframe tbody tr th:only-of-type {\n",
       "        vertical-align: middle;\n",
       "    }\n",
       "\n",
       "    .dataframe tbody tr th {\n",
       "        vertical-align: top;\n",
       "    }\n",
       "\n",
       "    .dataframe thead th {\n",
       "        text-align: right;\n",
       "    }\n",
       "</style>\n",
       "<table border=\"1\" class=\"dataframe\">\n",
       "  <thead>\n",
       "    <tr style=\"text-align: right;\">\n",
       "      <th></th>\n",
       "      <th>Country name</th>\n",
       "      <th>Happiness Index</th>\n",
       "      <th>GDP</th>\n",
       "      <th>Social Support</th>\n",
       "      <th>Life Expectancy</th>\n",
       "      <th>Freedom</th>\n",
       "      <th>Generosity</th>\n",
       "      <th>Perceptions of Corruption</th>\n",
       "    </tr>\n",
       "  </thead>\n",
       "  <tbody>\n",
       "    <tr>\n",
       "      <th>7</th>\n",
       "      <td>Bahrain</td>\n",
       "      <td>6.23</td>\n",
       "      <td>10.68</td>\n",
       "      <td>0.88</td>\n",
       "      <td>68.5</td>\n",
       "      <td>0.91</td>\n",
       "      <td>0.13</td>\n",
       "      <td>0.0</td>\n",
       "    </tr>\n",
       "    <tr>\n",
       "      <th>23</th>\n",
       "      <td>China</td>\n",
       "      <td>5.10</td>\n",
       "      <td>9.63</td>\n",
       "      <td>0.77</td>\n",
       "      <td>69.0</td>\n",
       "      <td>0.88</td>\n",
       "      <td>-0.19</td>\n",
       "      <td>0.0</td>\n",
       "    </tr>\n",
       "    <tr>\n",
       "      <th>33</th>\n",
       "      <td>Egypt</td>\n",
       "      <td>3.93</td>\n",
       "      <td>9.28</td>\n",
       "      <td>0.64</td>\n",
       "      <td>61.4</td>\n",
       "      <td>0.59</td>\n",
       "      <td>-0.16</td>\n",
       "      <td>0.0</td>\n",
       "    </tr>\n",
       "    <tr>\n",
       "      <th>57</th>\n",
       "      <td>Jordan</td>\n",
       "      <td>4.81</td>\n",
       "      <td>9.02</td>\n",
       "      <td>0.81</td>\n",
       "      <td>66.6</td>\n",
       "      <td>0.77</td>\n",
       "      <td>-0.15</td>\n",
       "      <td>0.0</td>\n",
       "    </tr>\n",
       "    <tr>\n",
       "      <th>61</th>\n",
       "      <td>Kuwait</td>\n",
       "      <td>6.09</td>\n",
       "      <td>11.10</td>\n",
       "      <td>0.85</td>\n",
       "      <td>66.5</td>\n",
       "      <td>0.88</td>\n",
       "      <td>-0.03</td>\n",
       "      <td>0.0</td>\n",
       "    </tr>\n",
       "    <tr>\n",
       "      <th>97</th>\n",
       "      <td>Saudi Arabia</td>\n",
       "      <td>6.29</td>\n",
       "      <td>10.80</td>\n",
       "      <td>0.84</td>\n",
       "      <td>66.0</td>\n",
       "      <td>0.81</td>\n",
       "      <td>-0.14</td>\n",
       "      <td>0.0</td>\n",
       "    </tr>\n",
       "    <tr>\n",
       "      <th>115</th>\n",
       "      <td>Turkmenistan</td>\n",
       "      <td>5.23</td>\n",
       "      <td>9.70</td>\n",
       "      <td>0.91</td>\n",
       "      <td>61.8</td>\n",
       "      <td>0.72</td>\n",
       "      <td>0.05</td>\n",
       "      <td>0.0</td>\n",
       "    </tr>\n",
       "    <tr>\n",
       "      <th>118</th>\n",
       "      <td>United Arab Emirates</td>\n",
       "      <td>7.04</td>\n",
       "      <td>11.11</td>\n",
       "      <td>0.84</td>\n",
       "      <td>66.9</td>\n",
       "      <td>0.96</td>\n",
       "      <td>0.21</td>\n",
       "      <td>0.0</td>\n",
       "    </tr>\n",
       "    <tr>\n",
       "      <th>124</th>\n",
       "      <td>Vietnam</td>\n",
       "      <td>5.18</td>\n",
       "      <td>8.74</td>\n",
       "      <td>0.00</td>\n",
       "      <td>67.7</td>\n",
       "      <td>0.00</td>\n",
       "      <td>0.00</td>\n",
       "      <td>0.0</td>\n",
       "    </tr>\n",
       "    <tr>\n",
       "      <th>125</th>\n",
       "      <td>Yemen</td>\n",
       "      <td>3.25</td>\n",
       "      <td>7.79</td>\n",
       "      <td>0.79</td>\n",
       "      <td>55.9</td>\n",
       "      <td>0.60</td>\n",
       "      <td>-0.17</td>\n",
       "      <td>0.0</td>\n",
       "    </tr>\n",
       "  </tbody>\n",
       "</table>\n",
       "</div>"
      ],
      "text/plain": [
       "             Country name  Happiness Index    GDP  Social Support  \\\n",
       "7                 Bahrain             6.23  10.68            0.88   \n",
       "23                  China             5.10   9.63            0.77   \n",
       "33                  Egypt             3.93   9.28            0.64   \n",
       "57                 Jordan             4.81   9.02            0.81   \n",
       "61                 Kuwait             6.09  11.10            0.85   \n",
       "97           Saudi Arabia             6.29  10.80            0.84   \n",
       "115          Turkmenistan             5.23   9.70            0.91   \n",
       "118  United Arab Emirates             7.04  11.11            0.84   \n",
       "124               Vietnam             5.18   8.74            0.00   \n",
       "125                 Yemen             3.25   7.79            0.79   \n",
       "\n",
       "     Life Expectancy  Freedom  Generosity  Perceptions of Corruption  \n",
       "7               68.5     0.91        0.13                        0.0  \n",
       "23              69.0     0.88       -0.19                        0.0  \n",
       "33              61.4     0.59       -0.16                        0.0  \n",
       "57              66.6     0.77       -0.15                        0.0  \n",
       "61              66.5     0.88       -0.03                        0.0  \n",
       "97              66.0     0.81       -0.14                        0.0  \n",
       "115             61.8     0.72        0.05                        0.0  \n",
       "118             66.9     0.96        0.21                        0.0  \n",
       "124             67.7     0.00        0.00                        0.0  \n",
       "125             55.9     0.60       -0.17                        0.0  "
      ]
     },
     "execution_count": 42,
     "metadata": {},
     "output_type": "execute_result"
    }
   ],
   "source": [
    "# Check countries with Zero value?\n",
    "zero_Perceptions_of_Corruption = all_2017[(all_2017[\"Perceptions of Corruption\"]<=0.0)] #& (HappinessIndex[\"Log GDP per capita\"]<=9.5)] \n",
    "zero_Perceptions_of_Corruption"
   ]
  },
  {
   "cell_type": "code",
   "execution_count": 43,
   "metadata": {},
   "outputs": [
    {
     "name": "stdout",
     "output_type": "stream",
     "text": [
      "The r-squared is: -0.23842005505217434\n"
     ]
    },
    {
     "data": {
      "image/png": "[encoded data removed]",
      "text/plain": [
       "<Figure size 432x288 with 1 Axes>"
      ]
     },
     "metadata": {
      "needs_background": "light"
     },
     "output_type": "display_data"
    }
   ],
   "source": [
    "linregres_func(all_2017[\"Perceptions of Corruption\"], all_2017[\"Happiness Index\"], 'Perceptions of Corruption', 'Happiness Index', 0.2, 4.9)"
   ]
  },
  {
   "cell_type": "code",
   "execution_count": null,
   "metadata": {},
   "outputs": [],
   "source": []
  },
  {
   "cell_type": "code",
   "execution_count": null,
   "metadata": {},
   "outputs": [],
   "source": []
  },
  {
   "cell_type": "code",
   "execution_count": null,
   "metadata": {},
   "outputs": [],
   "source": []
  },
  {
   "cell_type": "code",
   "execution_count": null,
   "metadata": {},
   "outputs": [],
   "source": []
  },
  {
   "cell_type": "code",
   "execution_count": null,
   "metadata": {},
   "outputs": [],
   "source": []
  },
  {
   "cell_type": "code",
   "execution_count": null,
   "metadata": {},
   "outputs": [],
   "source": []
  },
  {
   "cell_type": "code",
   "execution_count": null,
   "metadata": {},
   "outputs": [],
   "source": []
  },
  {
   "cell_type": "code",
   "execution_count": null,
   "metadata": {},
   "outputs": [],
   "source": []
  },
  {
   "cell_type": "code",
   "execution_count": null,
   "metadata": {},
   "outputs": [],
   "source": []
  }
 ],
 "metadata": {
  "kernelspec": {
   "display_name": "Python 3",
   "language": "python",
   "name": "python3"
  },
  "language_info": {
   "codemirror_mode": {
    "name": "ipython",
    "version": 3
   },
   "file_extension": ".py",
   "mimetype": "text/x-python",
   "name": "python",
   "nbconvert_exporter": "python",
   "pygments_lexer": "ipython3",
   "version": "3.7.6"
  }
 },
 "nbformat": 4,
 "nbformat_minor": 4
}
